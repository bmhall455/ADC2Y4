{
 "cells": [
  {
   "cell_type": "code",
   "execution_count": 14,
   "metadata": {},
   "outputs": [],
   "source": [
    "import json\n",
    "import geopandas as gpd\n",
    "from shapely.geometry import LineString\n",
    "\n",
    "# Load JSON file\n",
    "with open('lanes.json', 'r') as f:\n",
    "    data = json.load(f)\n",
    "\n",
    "# Access the lanes list\n",
    "lanes = data['lanes']\n",
    "\n",
    "# Extract the centerlines from each lane\n",
    "centerlines = [lane['center'] for lane in lanes if 'center' in lane]  # Ensures 'center' key exists\n",
    "\n",
    "# Convert coordinates to a GeoDataFrame\n",
    "centerline_geometry = [LineString(coords) for coords in centerlines]  # Create LineString objects\n",
    "gdf = gpd.GeoDataFrame(geometry=centerline_geometry)\n",
    "\n",
    "# Optional: Save the GeoDataFrame to a GeoJSON file\n",
    "gdf.to_file('centerlines.geojson', driver='GeoJSON')\n",
    "\n",
    "import json\n",
    "import random\n",
    "\n",
    "# Load the existing GeoJSON file\n",
    "with open('centerlines.geojson', 'r') as f:\n",
    "    geojson_data = json.load(f)\n",
    "\n",
    "# Define a function to generate random colors for the stroke\n",
    "def random_color():\n",
    "    return f\"#{random.randint(0, 255):02x}{random.randint(0, 255):02x}{random.randint(0, 255):02x}\"\n",
    "\n",
    "# Update each feature to include or modify the stroke property\n",
    "for feature in geojson_data['features']:\n",
    "    feature['properties']['stroke'] = random_color()\n",
    "\n",
    "# Save the updated GeoJSON file\n",
    "with open('centerlines_colored.geojson', 'w') as f:\n",
    "    json.dump(geojson_data, f)\n",
    "\n",
    "\n"
   ]
  }
 ],
 "metadata": {
  "kernelspec": {
   "display_name": "Python 3",
   "language": "python",
   "name": "python3"
  },
  "language_info": {
   "codemirror_mode": {
    "name": "ipython",
    "version": 3
   },
   "file_extension": ".py",
   "mimetype": "text/x-python",
   "name": "python",
   "nbconvert_exporter": "python",
   "pygments_lexer": "ipython3",
   "version": "3.8.10"
  }
 },
 "nbformat": 4,
 "nbformat_minor": 2
}
